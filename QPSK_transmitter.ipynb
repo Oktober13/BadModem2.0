{
 "cells": [
  {
   "cell_type": "code",
   "execution_count": 4,
   "metadata": {
    "collapsed": false
   },
   "outputs": [],
   "source": [
    "import numpy as np\n",
    "from math import pi, sin, cos\n",
    "import time"
   ]
  },
  {
   "cell_type": "code",
   "execution_count": 10,
   "metadata": {
    "collapsed": true
   },
   "outputs": [],
   "source": [
    "def textToBits(text):\n",
    "    txt2mrs = {\"a\" : \"01100001\", \"b\" : \"01100010\", \"c\" : \"01100011\", \"d\" : \" 01100100\", \"e\" : \"01100101\", \"f\" : \"01100110\", \"g\" : \"01100111\", \"h\" : \"01101000\", \"i\" : \"01101001\", \"j\" : \"01101010\", \"k\" : \"01101011\", \"l\" : \"01101100\", \"m\" : \"01101101\", \"n\" : \"01101110\", \"o\" : \"01101111\", \"p\" : \"01110000\", \"q\" : \"01110001\", \"r\" : \"01110010\", \"s\" : \"01110011\", \"t\" : \"01110100\", \"u\" : \"01110101\", \"v\" : \"01110110\", \"w\" : \"01110111\", \"x\" : \"01111000\", \"y\" : \"01111001\", \"z\" : \"01111010\", \" \" : \"00100000\"}\n",
    "\n",
    "    characters = list(text)\n",
    "    bits = []\n",
    "\n",
    "    for letter in characters:\n",
    "        bits.append(txt2mrs[letter])\n",
    "    bits.append(\"00000000\")\n",
    "\n",
    "    # print bits\n",
    "    return bits"
   ]
  },
  {
   "cell_type": "code",
   "execution_count": 6,
   "metadata": {
    "collapsed": true
   },
   "outputs": [],
   "source": [
    "def bitsToWave(bitstream):\n",
    "    for bits in bitstream:\n",
    "        \n",
    "    return wave"
   ]
  },
  {
   "cell_type": "code",
   "execution_count": 7,
   "metadata": {
    "collapsed": true
   },
   "outputs": [],
   "source": [
    "def waveToSound(wave):\n",
    "    sound = 0\n",
    "    play(sound) #find actual library for this"
   ]
  },
  {
   "cell_type": "code",
   "execution_count": 11,
   "metadata": {
    "collapsed": false,
    "scrolled": true
   },
   "outputs": [
    {
     "data": {
      "text/plain": [
       "['01101110',\n",
       " '01101111',\n",
       " '00100000',\n",
       " '01100110',\n",
       " '01101001',\n",
       " '01110011',\n",
       " '01101000',\n",
       " '00000000']"
      ]
     },
     "execution_count": 11,
     "metadata": {},
     "output_type": "execute_result"
    }
   ],
   "source": [
    "# textToBits(\"no fish\")\n",
    "bits = ['01101110', '01101111', '00100000', '01100110', '01101001', '01110011', '01101000', '00000000']"
   ]
  },
  {
   "cell_type": "code",
   "execution_count": null,
   "metadata": {
    "collapsed": true
   },
   "outputs": [],
   "source": []
  }
 ],
 "metadata": {
  "kernelspec": {
   "display_name": "Python 2",
   "language": "python",
   "name": "python2"
  },
  "language_info": {
   "codemirror_mode": {
    "name": "ipython",
    "version": 2
   },
   "file_extension": ".py",
   "mimetype": "text/x-python",
   "name": "python",
   "nbconvert_exporter": "python",
   "pygments_lexer": "ipython2",
   "version": "2.7.6"
  }
 },
 "nbformat": 4,
 "nbformat_minor": 0
}
