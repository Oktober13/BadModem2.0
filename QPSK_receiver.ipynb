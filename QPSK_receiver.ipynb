{
 "cells": [
  {
   "cell_type": "code",
   "execution_count": 1,
   "metadata": {
    "collapsed": false
   },
   "outputs": [],
   "source": [
    "import numpy as np\n",
    "from math import pi, sin, cos\n",
    "import time\n",
    "import pyaudio #sudo apt-get install python-pyaudio\n",
    "import wave\n",
    "%matplotlib inline\n",
    "import matplotlib.pyplot as plt"
   ]
  },
  {
   "cell_type": "code",
   "execution_count": 4,
   "metadata": {
    "collapsed": true
   },
   "outputs": [],
   "source": [
    "#TO DO \n",
    "\n",
    "#add plotting function to recordaudio()\n",
    "#check recordaudio functionality\n",
    "#figure out handshaking\n",
    "#filtering to get close to original signal\n",
    "#decode angle from zero locations"
   ]
  },
  {
   "cell_type": "code",
   "execution_count": 2,
   "metadata": {
    "collapsed": false
   },
   "outputs": [],
   "source": [
    "binDict = {\"01100001\":\"a\", \"01100010\":\"b\", \"01100011\":\"c\", \"01100100\":\"d\", \"01100101\":\"e\", \"01100110\":\"f\", \"01100111\":\"g\", \"01101000\":\"h\", \"01101001\":\"i\", \"01101010\":\"j\", \"01101011\":\"k\", \"01101100\":\"l\", \"01101101\":\"m\", \"01101110\":\"n\", \"01101111\":\"o\", \"01110000\":\"p\", \"01110001\":\"q\", \"01110010\":\"r\", \"01110011\":\"s\", \"01110100\":\"t\", \"01110101\":\"u\", \"01110110\":\"v\", \"01110111\":\"w\", \"01111000\":\"x\", \"01111001\":\"y\", \"01111010\":\"z\", \"00100000\":\" \"}"
   ]
  },
  {
   "cell_type": "code",
   "execution_count": 3,
   "metadata": {
    "collapsed": true
   },
   "outputs": [],
   "source": [
    "def soundToString():\n",
    "#     text = bytesToText(bitsToBytes(waveToBits(soundToWave(recordaudio()))))\n",
    "    sound = recordaudio()\n",
    "    wave = soundToWave(sound)\n",
    "    bits = waveToBits(wave)\n",
    "    bytes = bitsToBytes(bits)\n",
    "    text = bytesToText(bytes)\n",
    "    print(text)"
   ]
  },
  {
   "cell_type": "code",
   "execution_count": 1,
   "metadata": {
    "collapsed": false
   },
   "outputs": [],
   "source": [
    "def recordaudio(seconds=10): #default records audio for 10 seconds, returns np array of data\n",
    "    fs = 22000\n",
    "    # initialize portaudio\n",
    "    p = pyaudio.PyAudio()\n",
    "    stream = p.open(format=pyaudio.paInt16, channels=1, rate=44100, input=True, frames_per_buffer=1024)\n",
    "\n",
    "    print \"* recording\"\n",
    "    for i in range(0, fs / chunk * seconds):\n",
    "        data = stream.read(CHUNKSIZE)\n",
    "\n",
    "\n",
    "    # make data numpy array and plot\n",
    "    numpydata = np.fromstring(data, dtype=np.int16)\n",
    "    plt.plot(numpydata)\n",
    "    plt.show()\n",
    "\n",
    "    # close stream\n",
    "    stream.stop_stream()\n",
    "    stream.close()\n",
    "    p.terminate()\n",
    "    print \"* done\"\n",
    "    return numpydata"
   ]
  },
  {
   "cell_type": "code",
   "execution_count": 5,
   "metadata": {
    "collapsed": true
   },
   "outputs": [],
   "source": [
    "def soundToSignal(sound):\n",
    "    #band pass\n",
    "    \n",
    "    #handshaking???\n",
    "    \n",
    "    signal = [] #placeholder for function\n",
    "    return signal"
   ]
  },
  {
   "cell_type": "markdown",
   "metadata": {},
   "source": [
    "### Diagram of QPSK Modulation\n",
    "![Diagram of QPSK modulation](https://upload.wikimedia.org/wikipedia/commons/thumb/a/a5/Pi-by-4-QPSK_Gray_Coded.svg/300px-Pi-by-4-QPSK_Gray_Coded.svg.png)"
   ]
  },
  {
   "cell_type": "code",
   "execution_count": 2,
   "metadata": {
    "collapsed": false
   },
   "outputs": [],
   "source": [
    "def signalToBits(signal):\n",
    "    #interpret into two bit chunks\n",
    "    #step period = 50pi?\n",
    "    step_period = 4 #set this\n",
    "    tolerance = 1\n",
    "    nibbleDict = {pi/4:'11', 3*pi/4:'01', 5*pi/4:'00', 7*pi/4:'10'} #angles are at center of nibble's quadrant\n",
    "    bits = []\n",
    "    zeros_at = []\n",
    "    for t in range(0, len(signal), step_period): #what is step period?\n",
    "        bool_zeros = abs(signal[t:t+step_period])<=tolerance #returns array of True where 0 and False where !0 (within tolerance)\n",
    "        zero_indices = [i for i in range(0, step_period) if bool_zeros[i]] #list of indices of places where step period is false\n",
    "        print zero_indices\n",
    "        zeros_at.append([i+t for i in zero_indices])\n",
    "        #now calculate how many zeros/how far apart/where they are to determine phase of signal!\n",
    "    print zeros_at\n",
    "    return bits #where bits is an array of 1s and 0s\n",
    "\n",
    "    #currently returns indexes of zeros within signal in sublists according to period for one nibble\n",
    "    \n",
    "    #figure out angle based on frequency and location of zeros within nibble periods\n",
    "    \n"
   ]
  },
  {
   "cell_type": "code",
   "execution_count": 3,
   "metadata": {
    "collapsed": false
   },
   "outputs": [
    {
     "ename": "NameError",
     "evalue": "name 'np' is not defined",
     "output_type": "error",
     "traceback": [
      "\u001b[0;31m---------------------------------------------------------------------------\u001b[0m",
      "\u001b[0;31mNameError\u001b[0m                                 Traceback (most recent call last)",
      "\u001b[0;32m<ipython-input-3-a1aea8a0e684>\u001b[0m in \u001b[0;36m<module>\u001b[0;34m()\u001b[0m\n\u001b[0;32m----> 1\u001b[0;31m \u001b[0msignalToBits\u001b[0m\u001b[0;34m(\u001b[0m\u001b[0mnp\u001b[0m\u001b[0;34m.\u001b[0m\u001b[0marray\u001b[0m\u001b[0;34m(\u001b[0m\u001b[0;34m[\u001b[0m\u001b[0;36m1\u001b[0m\u001b[0;34m,\u001b[0m\u001b[0;36m0\u001b[0m\u001b[0;34m,\u001b[0m\u001b[0;36m0\u001b[0m\u001b[0;34m,\u001b[0m\u001b[0;36m0\u001b[0m\u001b[0;34m,\u001b[0m \u001b[0;36m2\u001b[0m\u001b[0;34m,\u001b[0m\u001b[0;36m0\u001b[0m\u001b[0;34m,\u001b[0m\u001b[0;36m0\u001b[0m\u001b[0;34m,\u001b[0m\u001b[0;36m3\u001b[0m\u001b[0;34m,\u001b[0m \u001b[0;36m4\u001b[0m\u001b[0;34m,\u001b[0m\u001b[0;36m0\u001b[0m\u001b[0;34m,\u001b[0m\u001b[0;36m5\u001b[0m\u001b[0;34m,\u001b[0m\u001b[0;36m6\u001b[0m\u001b[0;34m]\u001b[0m\u001b[0;34m)\u001b[0m\u001b[0;34m)\u001b[0m\u001b[0;34m\u001b[0m\u001b[0m\n\u001b[0m",
      "\u001b[0;31mNameError\u001b[0m: name 'np' is not defined"
     ]
    }
   ],
   "source": [
    "signalToBits(np.array([1,0,0,0, 2,0,0,3, 4,0,5,6]))"
   ]
  },
  {
   "cell_type": "code",
   "execution_count": 7,
   "metadata": {
    "collapsed": false
   },
   "outputs": [],
   "source": [
    "def bitsToByte(bits):\n",
    "    bytes = []\n",
    "    for i in range(0,len(bits)-1,8):        \n",
    "        bytes+=[''.join(map(str, bits[i:i+8]))]\n",
    "    return bytes #returns array of strings of 8 bits"
   ]
  },
  {
   "cell_type": "code",
   "execution_count": 8,
   "metadata": {
    "collapsed": false
   },
   "outputs": [],
   "source": [
    "def bytesToText(bytes):\n",
    "    text = ''\n",
    "    for byte in bytes:\n",
    "        text+=binDict.get(byte, '0')\n",
    "    return text #returns string of interpreted text. Anything not interpreted correctly will output as '0'"
   ]
  },
  {
   "cell_type": "code",
   "execution_count": 9,
   "metadata": {
    "collapsed": false
   },
   "outputs": [
    {
     "data": {
      "text/plain": [
       "'aa'"
      ]
     },
     "execution_count": 9,
     "metadata": {},
     "output_type": "execute_result"
    }
   ],
   "source": [
    "bytesToText(bitsToByte([0,1,1,0,0,0,0,1,0,1,1,0,0,0,0,1]))#working"
   ]
  },
  {
   "cell_type": "code",
   "execution_count": null,
   "metadata": {
    "collapsed": false
   },
   "outputs": [],
   "source": []
  },
  {
   "cell_type": "code",
   "execution_count": null,
   "metadata": {
    "collapsed": false
   },
   "outputs": [],
   "source": []
  },
  {
   "cell_type": "code",
   "execution_count": null,
   "metadata": {
    "collapsed": true
   },
   "outputs": [],
   "source": []
  },
  {
   "cell_type": "code",
   "execution_count": 10,
   "metadata": {
    "collapsed": true
   },
   "outputs": [],
   "source": [
    "#sample recording function with extra functionality\n",
    "import pyaudio\n",
    "import wave\n",
    "\n",
    "THRESHOLD = 500\n",
    "CHUNK_SIZE = 1024\n",
    "FORMAT = pyaudio.paInt16\n",
    "RATE = 44100\n",
    "\n",
    "def record():\n",
    "    \"\"\"\n",
    "    Record a word or words from the microphone and \n",
    "    return the data as an array of signed shorts.\n",
    "\n",
    "    Normalizes the audio, trims silence from the \n",
    "    start and end, and pads with 0.5 seconds of \n",
    "    blank sound to make sure VLC et al can play \n",
    "    it without getting chopped off.\n",
    "    \"\"\"\n",
    "    p = pyaudio.PyAudio()\n",
    "    stream = p.open(format=FORMAT, channels=1, rate=RATE,\n",
    "        input=True, output=True,\n",
    "        frames_per_buffer=CHUNK_SIZE)\n",
    "\n",
    "    num_silent = 0\n",
    "    snd_started = False\n",
    "\n",
    "    r = array('h')\n",
    "\n",
    "    while 1:\n",
    "        # little endian, signed short\n",
    "        snd_data = array('h', stream.read(CHUNK_SIZE))\n",
    "        if byteorder == 'big':\n",
    "            snd_data.byteswap()\n",
    "        r.extend(snd_data)\n",
    "\n",
    "        silent = is_silent(snd_data)\n",
    "\n",
    "        if silent and snd_started:\n",
    "            num_silent += 1\n",
    "        elif not silent and not snd_started:\n",
    "            snd_started = True\n",
    "\n",
    "        if snd_started and num_silent > 30:\n",
    "            break\n",
    "\n",
    "    sample_width = p.get_sample_size(FORMAT)\n",
    "    stream.stop_stream()\n",
    "    stream.close()\n",
    "    p.terminate()\n",
    "\n",
    "    r = normalize(r)\n",
    "    r = trim(r)\n",
    "    r = add_silence(r, 0.5)\n",
    "    return sample_width, r\n"
   ]
  }
 ],
 "metadata": {
  "kernelspec": {
   "display_name": "Python 2",
   "language": "python",
   "name": "python2"
  },
  "language_info": {
   "codemirror_mode": {
    "name": "ipython",
    "version": 2
   },
   "file_extension": ".py",
   "mimetype": "text/x-python",
   "name": "python",
   "nbconvert_exporter": "python",
   "pygments_lexer": "ipython2",
   "version": "2.7.6"
  }
 },
 "nbformat": 4,
 "nbformat_minor": 1
}
