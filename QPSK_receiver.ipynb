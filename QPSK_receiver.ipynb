{
 "cells": [
  {
   "cell_type": "code",
   "execution_count": 1,
   "metadata": {
    "collapsed": true
   },
   "outputs": [],
   "source": [
    "import numpy as np\n",
    "from math import pi, sin, cos\n",
    "import time"
   ]
  },
  {
   "cell_type": "code",
   "execution_count": 18,
   "metadata": {
    "collapsed": false
   },
   "outputs": [],
   "source": [
    "binDict = {\"01100001\":\"a\", \"01100010\":\"b\", \"01100011\":\"c\", \"01100100\":\"d\", \"01100101\":\"e\", \"01100110\":\"f\", \"01100111\":\"g\", \"01101000\":\"h\", \"01101001\":\"i\", \"01101010\":\"j\", \"01101011\":\"k\", \"01101100\":\"l\", \"01101101\":\"m\", \"01101110\":\"n\", \"01101111\":\"o\", \"01110000\":\"p\", \"01110001\":\"q\", \"01110010\":\"r\", \"01110011\":\"s\", \"01110100\":\"t\", \"01110101\":\"u\", \"01110110\":\"v\", \"01110111\":\"w\", \"01111000\":\"x\", \"01111001\":\"y\", \"01111010\":\"z\", \"00100000\":\" \"}"
   ]
  },
  {
   "cell_type": "code",
   "execution_count": 7,
   "metadata": {
    "collapsed": true
   },
   "outputs": [],
   "source": [
    "def soundToString():\n",
    "    #record sound\n",
    "    sound = 0\n",
    "    wave = soundToWave(sound)\n",
    "    bits = waveToBits(wave)\n",
    "    bytes = bitsToBytes(bits)\n",
    "    text = bytesToText(bytes)\n",
    "    print(text)"
   ]
  },
  {
   "cell_type": "code",
   "execution_count": 8,
   "metadata": {
    "collapsed": true
   },
   "outputs": [],
   "source": [
    "def soundToWave(sound):\n",
    "    wave = 0 #placeholder for function\n",
    "    return wave"
   ]
  },
  {
   "cell_type": "code",
   "execution_count": 4,
   "metadata": {
    "collapsed": true
   },
   "outputs": [],
   "source": [
    "def waveToBits(wave):\n",
    "    bits = 0 #placeholder for function\n",
    "    return bits #where bits is an array of 1s and 0s"
   ]
  },
  {
   "cell_type": "code",
   "execution_count": 80,
   "metadata": {
    "collapsed": false
   },
   "outputs": [],
   "source": [
    "def bitsToByte(bits):\n",
    "    bytes = []\n",
    "    for i in range(0,len(bits)-1,8):        \n",
    "        bytes+=[''.join(map(str, bits[i:i+8]))]\n",
    "    return bytes #returns array of strings of 8 bits"
   ]
  },
  {
   "cell_type": "code",
   "execution_count": 85,
   "metadata": {
    "collapsed": false
   },
   "outputs": [],
   "source": [
    "def bytesToText(bytes):\n",
    "    text = ''\n",
    "    for byte in bytes:\n",
    "        text+=binDict.get(byte, '0')\n",
    "    return text #returns string of interpreted text. Anything not interpreted correctly will output as '0'"
   ]
  },
  {
   "cell_type": "code",
   "execution_count": 86,
   "metadata": {
    "collapsed": false
   },
   "outputs": [
    {
     "data": {
      "text/plain": [
       "'aa'"
      ]
     },
     "execution_count": 86,
     "metadata": {},
     "output_type": "execute_result"
    }
   ],
   "source": [
    "bytesToText(bitsToByte([0,1,1,0,0,0,0,1,0,1,1,0,0,0,0,1]))"
   ]
  }
 ],
 "metadata": {
  "kernelspec": {
   "display_name": "Python 2",
   "language": "python",
   "name": "python2"
  },
  "language_info": {
   "codemirror_mode": {
    "name": "ipython",
    "version": 2
   },
   "file_extension": ".py",
   "mimetype": "text/x-python",
   "name": "python",
   "nbconvert_exporter": "python",
   "pygments_lexer": "ipython2",
   "version": "2.7.6"
  }
 },
 "nbformat": 4,
 "nbformat_minor": 1
}
